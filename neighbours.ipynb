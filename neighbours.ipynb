{
 "cells": [
  {
   "cell_type": "code",
   "execution_count": 23,
   "metadata": {},
   "outputs": [],
   "source": [
    "import numpy as np\n",
    "import pandas as pd\n",
    "from sklearn.preprocessing import LabelEncoder\n",
    "from sklearn.neighbors import NearestNeighbors\n"
   ]
  },
  {
   "cell_type": "code",
   "execution_count": 24,
   "metadata": {},
   "outputs": [],
   "source": [
    "users = pd.read_csv(r\"D:\\dataset\\encoding\\user_frame.csv\")\n",
    "user_vectors = pd.read_csv(r\"D:\\dataset\\encoding\\user_vectors.csv\")\n",
    "ratings = pd.read_csv(r\"D:\\dataset\\encoding\\ratings_frame.csv\")"
   ]
  },
  {
   "attachments": {},
   "cell_type": "markdown",
   "metadata": {},
   "source": [
    "Label encode username column so that usernames can be retrieved after K-Nearest Neighbours calculation"
   ]
  },
  {
   "cell_type": "code",
   "execution_count": 25,
   "metadata": {},
   "outputs": [],
   "source": [
    "encoder = LabelEncoder()\n",
    "final_vectors = user_vectors.copy()\n",
    "x = encoder.fit(final_vectors[\"username\"])\n",
    "#print(encoder.classes_)\n",
    "username_enc = x.transform(final_vectors[\"username\"])\n",
    "username_enc\n",
    "\n",
    "#adding encoded usernames to new dataframe\n",
    "final_vectors[\"username\"] = username_enc\n",
    "\n",
    "#pd.set_option('display.max_rows', None)\n",
    "final_arrays = final_vectors.values\n",
    "#final_vectors.loc[final_vectors[\"username\"]==7537]\n",
    "#get username from number\n",
    "#encoder.inverse_transform([7537])"
   ]
  },
  {
   "attachments": {},
   "cell_type": "markdown",
   "metadata": {},
   "source": [
    "Compute K-Nearest Neighbours"
   ]
  },
  {
   "cell_type": "code",
   "execution_count": 32,
   "metadata": {},
   "outputs": [
    {
     "data": {
      "text/html": [
       "<div>\n",
       "<style scoped>\n",
       "    .dataframe tbody tr th:only-of-type {\n",
       "        vertical-align: middle;\n",
       "    }\n",
       "\n",
       "    .dataframe tbody tr th {\n",
       "        vertical-align: top;\n",
       "    }\n",
       "\n",
       "    .dataframe thead th {\n",
       "        text-align: right;\n",
       "    }\n",
       "</style>\n",
       "<table border=\"1\" class=\"dataframe\">\n",
       "  <thead>\n",
       "    <tr style=\"text-align: right;\">\n",
       "      <th></th>\n",
       "      <th>user_id</th>\n",
       "      <th>username</th>\n",
       "      <th>user_completed</th>\n",
       "      <th>experience</th>\n",
       "      <th>gender</th>\n",
       "      <th>birth_date</th>\n",
       "      <th>stats_episodes</th>\n",
       "      <th>generation</th>\n",
       "      <th>fav_genres</th>\n",
       "      <th>fav_anime_period</th>\n",
       "    </tr>\n",
       "  </thead>\n",
       "  <tbody>\n",
       "    <tr>\n",
       "      <th>0</th>\n",
       "      <td>2255153</td>\n",
       "      <td>karthiga</td>\n",
       "      <td>49</td>\n",
       "      <td>Active</td>\n",
       "      <td>Female</td>\n",
       "      <td>1990</td>\n",
       "      <td>3391</td>\n",
       "      <td>Millenials</td>\n",
       "      <td>['Comedy', 'Action', 'Shounen']</td>\n",
       "      <td>Classic</td>\n",
       "    </tr>\n",
       "    <tr>\n",
       "      <th>68</th>\n",
       "      <td>502880</td>\n",
       "      <td>lila94</td>\n",
       "      <td>89</td>\n",
       "      <td>Active</td>\n",
       "      <td>Female</td>\n",
       "      <td>1994</td>\n",
       "      <td>4204</td>\n",
       "      <td>Millenials</td>\n",
       "      <td>['Action', 'Comedy', 'Shounen']</td>\n",
       "      <td>Classic</td>\n",
       "    </tr>\n",
       "    <tr>\n",
       "      <th>416</th>\n",
       "      <td>2120443</td>\n",
       "      <td>hana_haruka</td>\n",
       "      <td>110</td>\n",
       "      <td>Active</td>\n",
       "      <td>Female</td>\n",
       "      <td>1993</td>\n",
       "      <td>4062</td>\n",
       "      <td>Millenials</td>\n",
       "      <td>['Action', 'Shounen', 'Comedy']</td>\n",
       "      <td>Classic</td>\n",
       "    </tr>\n",
       "    <tr>\n",
       "      <th>3962</th>\n",
       "      <td>71147</td>\n",
       "      <td>gosakurago</td>\n",
       "      <td>86</td>\n",
       "      <td>Active</td>\n",
       "      <td>Female</td>\n",
       "      <td>1994</td>\n",
       "      <td>3329</td>\n",
       "      <td>Millenials</td>\n",
       "      <td>['Action', 'Comedy', 'Shounen']</td>\n",
       "      <td>Classic</td>\n",
       "    </tr>\n",
       "    <tr>\n",
       "      <th>3132</th>\n",
       "      <td>487038</td>\n",
       "      <td>gorankudasai</td>\n",
       "      <td>144</td>\n",
       "      <td>Active</td>\n",
       "      <td>Female</td>\n",
       "      <td>1992</td>\n",
       "      <td>3513</td>\n",
       "      <td>Millenials</td>\n",
       "      <td>['Action', 'Shounen', 'Comedy']</td>\n",
       "      <td>Classic</td>\n",
       "    </tr>\n",
       "  </tbody>\n",
       "</table>\n",
       "</div>"
      ],
      "text/plain": [
       "      user_id      username user_completed experience  gender birth_date  \\\n",
       "0     2255153      karthiga             49     Active  Female       1990   \n",
       "68     502880        lila94             89     Active  Female       1994   \n",
       "416   2120443   hana_haruka            110     Active  Female       1993   \n",
       "3962    71147    gosakurago             86     Active  Female       1994   \n",
       "3132   487038  gorankudasai            144     Active  Female       1992   \n",
       "\n",
       "     stats_episodes  generation                       fav_genres  \\\n",
       "0              3391  Millenials  ['Comedy', 'Action', 'Shounen']   \n",
       "68             4204  Millenials  ['Action', 'Comedy', 'Shounen']   \n",
       "416            4062  Millenials  ['Action', 'Shounen', 'Comedy']   \n",
       "3962           3329  Millenials  ['Action', 'Comedy', 'Shounen']   \n",
       "3132           3513  Millenials  ['Action', 'Shounen', 'Comedy']   \n",
       "\n",
       "     fav_anime_period  \n",
       "0             Classic  \n",
       "68            Classic  \n",
       "416           Classic  \n",
       "3962          Classic  \n",
       "3132          Classic  "
      ]
     },
     "execution_count": 32,
     "metadata": {},
     "output_type": "execute_result"
    }
   ],
   "source": [
    "#function that returns a list of indexes of most similar users in \"final_arrays\" array\n",
    "def neighbours():\n",
    "    user = np.array([7537,0,0,2,0,0,0,0,0,0,0,0,0,0,0,0,0,0,0,0,0,0,0,0,0,0,0,0,0,1,1,0,1,0,0,0,0,0,0,0,0,0,0,0,0])\n",
    "    nc = NearestNeighbors(n_neighbors = 5, metric=\"cosine\") #euclidean\n",
    "    #maybe add some weightings\n",
    "    train = nc.fit(final_arrays) #fit the model with the user vector data\n",
    "    n = train.kneighbors([user], return_distance=False)\n",
    "    return n\n",
    "\n",
    "sim_names = []\n",
    "neighbours = neighbours()\n",
    "for i in neighbours[0]: #loop through nested array\n",
    "    #print(final_arrays[i][0])\n",
    "    name = x.inverse_transform([final_arrays[i][0]])\n",
    "    sim_names.append(name)\n",
    "\n",
    "#build new dataframe of neighbours\n",
    "neighbour_frame = pd.DataFrame()\n",
    "for i in users.columns:\n",
    "    neighbour_frame[i] = None\n",
    "\n",
    "for name in sim_names:\n",
    "    user_row = users.loc[users[\"username\"]==name[0]]\n",
    "    neighbour_frame = pd.concat([neighbour_frame, user_row])\n",
    "neighbour_frame\n",
    "\n",
    "\n",
    "#(final_vectors.columns)    "
   ]
  },
  {
   "attachments": {},
   "cell_type": "markdown",
   "metadata": {},
   "source": [
    "Create anime recommendations"
   ]
  },
  {
   "cell_type": "code",
   "execution_count": 36,
   "metadata": {},
   "outputs": [
    {
     "data": {
      "text/plain": [
       "['Kamisama Hajimemashita',\n",
       " 'Katekyo Hitman Reborn!',\n",
       " 'Gintama&#039;: Enchousen',\n",
       " 'Ano Hi Mita Hana no Namae wo Bokutachi wa Mada Shiranai.',\n",
       " 'Mononoke Hime']"
      ]
     },
     "execution_count": 36,
     "metadata": {},
     "output_type": "execute_result"
    }
   ],
   "source": [
    "\n",
    "#Put anime that have most members at the top of each users \"lists\"\n",
    "def recommendations(neighbours):\n",
    "    #Get top rated show from each user\n",
    "    suggestions = [] #anime_id's of recommended anime\n",
    "    for i in neighbours[\"username\"]:\n",
    "        user_ratings = ratings.loc[ratings[\"username\"]==i]\n",
    "        top_rated = user_ratings.iloc[0][\"title\"]\n",
    "        suggestions.append(top_rated)\n",
    "        #print(top_rated)\n",
    "    return suggestions\n",
    "\n",
    "recommendations(neighbour_frame)\n",
    "#ratings"
   ]
  },
  {
   "attachments": {},
   "cell_type": "markdown",
   "metadata": {},
   "source": [
    "Function that converts user information from website into vector"
   ]
  }
 ],
 "metadata": {
  "kernelspec": {
   "display_name": "Python 3",
   "language": "python",
   "name": "python3"
  },
  "language_info": {
   "codemirror_mode": {
    "name": "ipython",
    "version": 3
   },
   "file_extension": ".py",
   "mimetype": "text/x-python",
   "name": "python",
   "nbconvert_exporter": "python",
   "pygments_lexer": "ipython3",
   "version": "3.11.1"
  },
  "orig_nbformat": 4
 },
 "nbformat": 4,
 "nbformat_minor": 2
}
