{
 "cells": [
  {
   "cell_type": "code",
   "execution_count": null,
   "metadata": {},
   "outputs": [],
   "source": [
    "import numpy as np\n",
    "import pandas as pd\n",
    "from sklearn.preprocessing import LabelEncoder\n",
    "from sklearn.neighbors import NearestNeighbors\n",
    "from sklearn.model_selection import train_test_split"
   ]
  },
  {
   "cell_type": "code",
   "execution_count": null,
   "metadata": {},
   "outputs": [],
   "source": [
    "users = pd.read_csv(r\"D:\\dataset\\encoding\\user_frame.csv\")\n",
    "user_vectors = pd.read_csv(r\"D:\\dataset\\encoding\\user_vectors.csv\")\n",
    "\n",
    "uv_train, uv_test = train_test_split(user_vectors, test_size=0.2, random_state=8)\n",
    "\n",
    "ratings = pd.read_csv(r\"D:\\dataset\\encoding\\ratings_frame.csv\")\n",
    "anime = pd.read_csv(r\"D:\\dataset\\anime_cleaned.csv\")"
   ]
  },
  {
   "attachments": {},
   "cell_type": "markdown",
   "metadata": {},
   "source": [
    "Label encode username column so that usernames can be retrieved after K-Nearest Neighbours calculation"
   ]
  },
  {
   "cell_type": "code",
   "execution_count": null,
   "metadata": {},
   "outputs": [],
   "source": [
    "encoder = LabelEncoder()\n",
    "t_encoder = LabelEncoder()\n",
    "final_vectors = uv_train.copy()\n",
    "test_vectors = uv_test.copy()\n",
    "x = encoder.fit(final_vectors[\"username\"])\n",
    "t = t_encoder.fit(test_vectors[\"username\"])\n",
    "#print(encoder.classes_)\n",
    "username_enc = x.transform(final_vectors[\"username\"])\n",
    "test_enc = t.transform(test_vectors[\"username\"])\n",
    "\n",
    "#adding encoded usernames to new dataframe\n",
    "final_vectors[\"username\"] = username_enc\n",
    "test_vectors[\"username\"] = test_enc\n",
    "#pd.set_option('display.max_rows', None)\n",
    "final_arrays = final_vectors.values\n",
    "test_arrays = test_vectors.values\n",
    "#final_vectors.loc[final_vectors[\"username\"]==7537]\n",
    "#get username from number\n",
    "#encoder.inverse_transform([7537])\n",
    "#final_vectors\n",
    "uv_train\n",
    "#test_arrays\n",
    "#test_vectors\n",
    "#uv_test"
   ]
  },
  {
   "attachments": {},
   "cell_type": "markdown",
   "metadata": {},
   "source": [
    "Compute K-Nearest Neighbours"
   ]
  },
  {
   "cell_type": "code",
   "execution_count": null,
   "metadata": {},
   "outputs": [],
   "source": [
    "#function that returns a list of indexes of most similar users in \"final_arrays\" array\n",
    "def neighbours(user):\n",
    "    #user = np.array([7537, 0, 0, 2, 0, 0, 0, 0, 0, 0, 1, 0, 0, 0, 0, 0, 0, 0, 0, 0, 0, 0, 0, 0, 0, 1, 0, 0, 0, 0, 0, 0, 0, 1, 0, 0, 0, 0, 0, 0, 0, 0, 0, 0, 0])\n",
    "    nc = NearestNeighbors(n_neighbors = 5, metric=\"cosine\") #euclidean\n",
    "    #maybe add some weightings\n",
    "    train = nc.fit(final_arrays) #fit the model with the user vector data (training)\n",
    "    n = train.kneighbors([user], return_distance = False)\n",
    "    return n\n",
    "\n",
    "#returns a dataframe of users that were in k-nearest neighbours list \n",
    "def sim_frame(neighbours):\n",
    "    sim_names = []\n",
    "    #neighbours = neighbours()\n",
    "\n",
    "    for i in neighbours[0]: #loop through nested array\n",
    "        #print(final_arrays[i][0])\n",
    "        name = x.inverse_transform([final_arrays[i][0]]) #find usernames of similar users\n",
    "        sim_names.append(name)\n",
    "\n",
    "    #build new dataframe of neighbours\n",
    "    neighbour_frame = pd.DataFrame()\n",
    "    for i in users.columns:\n",
    "        neighbour_frame[i] = None\n",
    "\n",
    "    for name in sim_names:\n",
    "        user_row = users.loc[users[\"username\"]==name[0]]\n",
    "        neighbour_frame = pd.concat([neighbour_frame, user_row])\n",
    "\n",
    "    pd.options.display.max_rows = 999\n",
    "    pd.set_option('display.max_columns', 500)\n",
    "    return neighbour_frame\n",
    "\n",
    "neighbour_ids = neighbours(np.array([6490, 0, 0, 1, 1, 0, 0, 0, 0, 0, 0, 0, 0, 0, 0, 0, 0, 0, 1, 1, 0, 0, 0, 0, 0, 0, 0, 0, 1, 0, 0, 0, 0, 0, 0, 0, 0, 0, 0, 0, 0, 0, 0, 0,0]))\n",
    "#print(neighbour_ids)\n",
    "neighbour_frame = sim_frame(neighbour_ids)\n",
    "neighbour_frame\n",
    "#final_vectors.loc[final_vectors[\"username\"]==7537]\n",
    "#(final_vectors.columns)    "
   ]
  },
  {
   "attachments": {},
   "cell_type": "markdown",
   "metadata": {},
   "source": [
    "Create anime recommendations"
   ]
  },
  {
   "cell_type": "code",
   "execution_count": null,
   "metadata": {},
   "outputs": [],
   "source": [
    "\n",
    "#Put anime that have most members at the top of each users \"lists\"\n",
    "def recommendations(neighbours, media_type):\n",
    "    #Get top rated TV shows or movies from each user\n",
    "    suggestions = [] #anime_id's of recommended anime\n",
    "    for i in neighbours[\"username\"]:\n",
    "        user_ratings = ratings.loc[ratings[\"username\"]==i]\n",
    "        tv_shows = user_ratings[user_ratings[\"type\"]==\"TV\"]\n",
    "        movies = user_ratings[user_ratings[\"type\"]==\"Movie\"]\n",
    "\n",
    "        if media_type == \"TV\":\n",
    "            show_ratings = tv_shows\n",
    "        else:\n",
    "            show_ratings = movies\n",
    "        \n",
    "        #There may be 0 movies in the user's top 10 list in which case we skip that user's recommendationan\n",
    "        if len(show_ratings) > 1:\n",
    "            top_rated = show_ratings.iloc[0][\"title\"] #change to ids when creating the website to lookup the anime\n",
    "            suggestions.append(top_rated)\n",
    "            #print(top_rated)\n",
    "\n",
    "    if len(suggestions)==0:\n",
    "        print(\"No movies to recommend :/\")\n",
    "    \n",
    "    return suggestions\n",
    "\n",
    "recommendations(neighbour_frame, \"TV\")\n",
    "#ratings"
   ]
  },
  {
   "attachments": {},
   "cell_type": "markdown",
   "metadata": {},
   "source": [
    "Based on model fit with training data (K-Neighbours), evaluate recommended anime for users in test set\n"
   ]
  },
  {
   "cell_type": "code",
   "execution_count": null,
   "metadata": {},
   "outputs": [],
   "source": [
    "real_ratings = pd.read_csv(r\"D:\\dataset\\animelists_cleaned.csv\")"
   ]
  },
  {
   "cell_type": "code",
   "execution_count": null,
   "metadata": {},
   "outputs": [],
   "source": [
    "def evaluation():\n",
    "    #Create kneighbours dataframe for all users in the dataset\n",
    "    overall_scores = []\n",
    "    num_likes = []\n",
    "    num_shows_watched = []\n",
    "    for user in test_arrays:\n",
    "        user = np.array(user)\n",
    "        #print([user[0]])\n",
    "        username = t.inverse_transform([user[0]])[0]\n",
    "        #print(username)\n",
    "        user_neighbours = neighbours(user)\n",
    "        nframe = sim_frame(user_neighbours)\n",
    "        #print(user_neighbours)\n",
    "        user_recommendations = recommendations(nframe, \"TV\")\n",
    "        #print(nframe[\"username\"], user_recommendations)\n",
    "        \n",
    "        #Use original ratings dataframe with all shows user has rated instead of simply the top 10\n",
    "        rt = real_ratings.loc[real_ratings[\"username\"]==username]\n",
    "        rt = rt.loc[rt[\"my_watched_episodes\"]>3]\n",
    "        score = 0\n",
    "        likes = 0\n",
    "        shows_watched = 0\n",
    "        #Check whether recommended shows are present in original ratings table\n",
    "        for show in user_recommendations:\n",
    "            a_id = int(anime.loc[anime[\"title\"]==show][\"anime_id\"])\n",
    "            #u_ratings = real_ratings.loc[real_ratings[\"username\"]==username]\n",
    "            if int(a_id) in list(rt[\"anime_id\"]): #if user watched the recommended show, give 1 point\n",
    "                rating_row = real_ratings.loc[(real_ratings[\"username\"]==username)&(real_ratings[\"anime_id\"]==a_id)]\n",
    "                #print(rating_row)\n",
    "                shows_watched+=1\n",
    "                score+=1 #add a point to overall score because user has watched recommended show before\n",
    "                if int(rating_row[\"my_score\"])>=7:#user \"likes\" the show if they rated it higher than or equal to 7\n",
    "                    score+=1 #add an extra point to overall score if the user liked the show\n",
    "                    likes+=1\n",
    "\n",
    "        score = (score/10)*100 #max number of points is 2 x number of neighbours (k): 10\n",
    "        num_likes.append(likes)\n",
    "        overall_scores.append(score)\n",
    "        num_shows_watched.append(shows_watched)\n",
    "        #print(f\"Score for user {username}: {score}%\")\n",
    "\n",
    "        #remove percentage \n",
    "        #standard deviation of results\n",
    "        #distribution of scores - how many score are 1,2,3,4,5,6,7,8,9,10\n",
    "        #plot on graph\n",
    "        #potentially take top 2 instead of top 1\n",
    "\n",
    "    avg_score = np.average(overall_scores)\n",
    "    avg_likes = np.average(num_likes)\n",
    "    avg_shows_watched = np.average(num_shows_watched)\n",
    "    print(f\"Average overall recommendation score for Test users: {avg_score}%\")\n",
    "    print(f\"Average number of recommended shows that users have watched before: {avg_shows_watched}\")\n",
    "    print(f\"Average number of recommended anime that users liked: {avg_likes}\")\n",
    "    return avg_score, avg_shows_watched, avg_likes\n",
    "\n",
    "evaluation()\n",
    "#include analysis of distance metric between neighbours e.g. cosine, euclidean "
   ]
  },
  {
   "attachments": {},
   "cell_type": "markdown",
   "metadata": {},
   "source": [
    "Function that converts user information from website into vector"
   ]
  }
 ],
 "metadata": {
  "kernelspec": {
   "display_name": "Python 3",
   "language": "python",
   "name": "python3"
  },
  "language_info": {
   "codemirror_mode": {
    "name": "ipython",
    "version": 3
   },
   "file_extension": ".py",
   "mimetype": "text/x-python",
   "name": "python",
   "nbconvert_exporter": "python",
   "pygments_lexer": "ipython3",
   "version": "3.11.1"
  },
  "orig_nbformat": 4
 },
 "nbformat": 4,
 "nbformat_minor": 2
}
