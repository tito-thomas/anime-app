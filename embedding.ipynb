{
 "cells": [
  {
   "cell_type": "code",
   "execution_count": null,
   "metadata": {},
   "outputs": [],
   "source": [
    "import numpy as np\n",
    "import pandas as pd\n",
    "from sklearn.preprocessing import LabelEncoder\n",
    "from sklearn.neighbors import KNeighborsClassifier\n",
    "import import_ipynb #requires pip install"
   ]
  },
  {
   "attachments": {},
   "cell_type": "markdown",
   "metadata": {},
   "source": [
    "Import new dataset"
   ]
  },
  {
   "cell_type": "code",
   "execution_count": null,
   "metadata": {},
   "outputs": [],
   "source": [
    "users = pd.read_csv(r\"D:\\dataset\\encoding\\user_frame.csv\")\n",
    "anime = pd.read_csv(r\"D:\\dataset\\encoding\\anime_frame.csv\")\n",
    "ratings = pd.read_csv(r\"D:\\dataset\\encoding\\ratings_frame.csv\")\n",
    "#Function to turn \"genres\" columns from string into list\n",
    "def string_to_list(genres):\n",
    "    return eval(genres)\n",
    "\n",
    "users[\"fav_genres\"] = users[\"fav_genres\"].apply(string_to_list)\n",
    "anime[\"genre\"] = anime[\"genre\"].apply(string_to_list)\n",
    "ratings[\"genre\"] = ratings[\"genre\"].apply(string_to_list)"
   ]
  },
  {
   "cell_type": "code",
   "execution_count": null,
   "metadata": {},
   "outputs": [],
   "source": [
    "#Build genre list\n",
    "def split(genres):\n",
    "    return str(genres).split(\",\")\n",
    "\n",
    "def build_genre_list(dataframe):\n",
    "    #Updating the set to get the individual genre names in the set instead of the original list of genres\n",
    "    genre_set = set()\n",
    "    for i in dataframe: \n",
    "        print(i)\n",
    "        genre_set.update(i)\n",
    "    result = list(genre_set)\n",
    " \n",
    "    #Removing blank spaces\n",
    "    final_result = []\n",
    "    for i in result:\n",
    "        if i!=\"nan\":\n",
    "            #new = i.replace(\" \", \"\")\n",
    "            new = i.strip()\n",
    "            final_result.append(new)\n",
    "\n",
    "    #Removing duplicates now that spaces have been removed\n",
    "    genre_list = list(set(final_result))\n",
    "    return genre_list"
   ]
  },
  {
   "attachments": {},
   "cell_type": "markdown",
   "metadata": {},
   "source": [
    "Vectorize users records"
   ]
  },
  {
   "cell_type": "code",
   "execution_count": null,
   "metadata": {},
   "outputs": [],
   "source": [
    "\n",
    "\n",
    "user_cols = users.loc[:, [\"username\", \"experience\",\"gender\", \"generation\",  \"fav_anime_period\"]]\n",
    "\n",
    "encoder = LabelEncoder()\n",
    "#Function to create a separate feature for each column and vectorize\n",
    "def genre_columns():\n",
    "\n",
    "    user_genres = users.loc[:, [\"username\", \"fav_genres\"]]\n",
    "    genre_list = build_genre_list(user_genres[\"fav_genres\"])\n",
    "\n",
    "    for i in genre_list:\n",
    "        user_cols[i] = 0\n",
    "\n",
    "    for x, y in user_genres.iterrows():\n",
    "        user_row = user_cols.loc[user_cols[\"username\"] == y[\"username\"]]\n",
    "        #print(y)\n",
    "        #encode each of the three favourite genres with value: 1\n",
    "        user_row[y[\"fav_genres\"][0]] = 1\n",
    "        user_row[y[\"fav_genres\"][1]] = 1\n",
    "        user_row[y[\"fav_genres\"][2]] = 1\n",
    "\n",
    "        user_cols.loc[user_cols[\"username\"] == y[\"username\"]] = user_row\n",
    "\n",
    "    genre_cols = user_cols.drop(columns=[\"experience\",\"gender\", \"generation\",\"fav_anime_period\"])\n",
    "    return genre_cols\n",
    "\n",
    "#Vectorise features of a single user\n",
    "def vectorize_single(user):\n",
    "    #Get row of one user\n",
    "    user_row = user_cols.loc[user_cols[\"username\"] == user]\n",
    "    user_vector = user_row.copy()\n",
    "    \n",
    "    #Fit the encoder with the data of original df: user_cols\n",
    "    for col in user_cols.columns:\n",
    "        enc = encoder.fit(user_cols[col])\n",
    "        #print(list(enc.classes_))\n",
    "        user_vector[col]=enc.transform(user_vector[col]) #encode each column of target user\n",
    "\n",
    "    return user_vector\n",
    "\n",
    "#Vectorise features of all users in the dataframe\n",
    "def vectorize_all():\n",
    "    all_users = user_cols.copy()\n",
    "\n",
    "    for user in user_cols[\"username\"]:\n",
    "        user_vector = vectorize_single(user)\n",
    "        all_users.loc[all_users[\"username\"] == user] = user_vector\n",
    "    #Make sure username field is in string form for identifier    \n",
    "    all_users[\"username\"] = user_cols[\"username\"]\n",
    "    #K-Nearest Neighbours\n",
    "    #nb = KNeighborsClassifier(n_neighbors=5)\n",
    "    return all_users\n",
    "\n",
    "#Construct final vector of encoded features\n",
    "def construct_vectors():\n",
    "    string_features = vectorize_all()\n",
    "    genre_features = genre_columns()\n",
    "    final_vector = pd.merge(string_features, genre_features, on = \"username\")\n",
    "    return final_vector\n",
    "\n",
    "result = construct_vectors()\n",
    "result.to_csv(r\"D:\\dataset\\encoding\\user_vectors.csv\", index=False)\n",
    "#genre_columns()\n",
    "#vectorize_all()\n",
    "#user_cols\n",
    "# need to translate genres that user is asked to anime genres\n"
   ]
  },
  {
   "cell_type": "code",
   "execution_count": null,
   "metadata": {},
   "outputs": [],
   "source": [
    "pd.set_option('display.max_columns', 500)\n",
    "result\n"
   ]
  },
  {
   "cell_type": "code",
   "execution_count": null,
   "metadata": {},
   "outputs": [],
   "source": [
    "vectorize_single(\"badking95\")\n"
   ]
  },
  {
   "cell_type": "code",
   "execution_count": null,
   "metadata": {},
   "outputs": [],
   "source": [
    "\n",
    "anime_vector = anime.loc[:, [\"airing\",\"studio\", \"genre\", \"time_period\", \"fame\"]]\n",
    "anime_vector\n",
    "#anime\n",
    "#anime_genres = users.loc[:, \"genre\"]\n",
    "#genre_list = build_genre_list(anime_genres)\n",
    "#for i in genre_list:\n",
    "            #user_cols[i] = 0"
   ]
  },
  {
   "cell_type": "code",
   "execution_count": null,
   "metadata": {},
   "outputs": [],
   "source": [
    "rf = pd.read_csv(r\"D:\\dataset\\encoding\\collab_frame.csv\")\n",
    "\n",
    "full_ratings = rf[rf[\"username\"].isin(users[\"username\"])] #ensure that only ratings from users that are in the users dataframe are included\n",
    "\n",
    "print(len(full_ratings))"
   ]
  },
  {
   "attachments": {},
   "cell_type": "markdown",
   "metadata": {},
   "source": [
    "Build user-item matrix with ratings (collaborative filtering)"
   ]
  },
  {
   "cell_type": "code",
   "execution_count": null,
   "metadata": {},
   "outputs": [],
   "source": [
    "\n",
    "#not using genres because this should focus on ratings \n",
    "anime_matrix = pd.DataFrame(columns = users[\"username\"].values)\n",
    "anime_matrix[\"anime_id\"] = anime[\"anime_id\"]\n",
    "anime_matrix.set_index(\"anime_id\")\n",
    "col = anime_matrix.pop(\"anime_id\")\n",
    "anime_matrix.insert(0, col.name, col)\n",
    "#anime_matrix.iloc[:]=0\n",
    "rating_matrix = pd.DataFrame(0, columns=anime_matrix.columns, index=anime_matrix.index) #set all values to 0 by default\n",
    "rating_matrix[\"anime_id\"] = anime[\"anime_id\"]\n",
    "\n",
    "#Filter rows in rating_matrix to only include anime that are also in the full_ratings table\n",
    "rating_matrix = rating_matrix[rating_matrix[\"anime_id\"].isin(full_ratings[\"anime_id\"])]\n",
    "\n",
    "for show in rating_matrix.iterrows():\n",
    "    show_id = int(show[1][\"anime_id\"])\n",
    "    #show_id = int(full_anime.loc[full_anime[\"title\"]==show[0]][\"anime_id\"])\n",
    "    anime_ratings = full_ratings.groupby(\"anime_id\").get_group(show_id)\n",
    "    usernames = list(anime_ratings[\"username\"])\n",
    "    scores = list(anime_ratings[\"my_score\"]) #normalise ratings\n",
    "    #print(anime_ratings)\n",
    "    mean = list(anime_ratings[\"mean_score\"])\n",
    "    #mean = float(users.loc[users[\"username\"]==users[\"stats_mean_score\"]])\n",
    "    norm = np.subtract(scores, mean)\n",
    "    #print(norm)\n",
    "    #print(usernames)\n",
    "    #print(scores)      \n",
    "\n",
    "    rating_matrix.loc[rating_matrix[\"anime_id\"]==show_id,usernames] = scores #test with raw scores and normalised scores\n",
    "#adding extra features to be used in combination with ratings for each show\n",
    "extra_features = anime.loc[:, [\"anime_id\", \"type\", \"studio\", \"time_period\", \"fame\"]]\n",
    "rating_matrix = rating_matrix.merge(extra_features, on=\"anime_id\")\n",
    "\n",
    "#Label encode the extra features\n",
    "collab_encoder = LabelEncoder()\n",
    "for col in extra_features.columns[1:]:\n",
    "    col_fit = collab_encoder.fit(rating_matrix[col])\n",
    "    rating_matrix[col] = col_fit.transform(rating_matrix[col])\n",
    "\n",
    "rating_matrix.to_csv(r\"D:\\dataset\\encoding\\collab_scores.csv\", index = False)\n",
    "rating_matrix\n",
    "#extra_features\n",
    "#3240 rows\n"
   ]
  }
 ],
 "metadata": {
  "kernelspec": {
   "display_name": "Python 3",
   "language": "python",
   "name": "python3"
  },
  "language_info": {
   "codemirror_mode": {
    "name": "ipython",
    "version": 3
   },
   "file_extension": ".py",
   "mimetype": "text/x-python",
   "name": "python",
   "nbconvert_exporter": "python",
   "pygments_lexer": "ipython3",
   "version": "3.11.1"
  },
  "orig_nbformat": 4,
  "vscode": {
   "interpreter": {
    "hash": "2fbeb981500814da07500025845562e048eba632abcc03a88daa93daf0265bae"
   }
  }
 },
 "nbformat": 4,
 "nbformat_minor": 2
}
