{
 "cells": [
  {
   "cell_type": "code",
   "execution_count": 65,
   "metadata": {},
   "outputs": [],
   "source": [
    "import numpy as np\n",
    "import pandas as pd\n",
    "#import scipy\n",
    "from datetime import date, datetime"
   ]
  },
  {
   "cell_type": "code",
   "execution_count": 63,
   "metadata": {},
   "outputs": [],
   "source": [
    "\n",
    "users = pd.read_csv(r\"D:\\dataset\\users_cleaned.csv\")\n",
    "anime = pd.read_csv(r\"D:\\dataset\\anime_cleaned.csv\")\n",
    "ratings = pd.read_csv(r\"D:\\dataset\\animelists_cleaned.csv\")\n"
   ]
  },
  {
   "cell_type": "code",
   "execution_count": 210,
   "metadata": {},
   "outputs": [
    {
     "ename": "TypeError",
     "evalue": "'>=' not supported between instances of 'str' and 'int'",
     "output_type": "error",
     "traceback": [
      "\u001b[1;31m---------------------------------------------------------------------------\u001b[0m",
      "\u001b[1;31mTypeError\u001b[0m                                 Traceback (most recent call last)",
      "Cell \u001b[1;32mIn[210], line 30\u001b[0m\n\u001b[0;32m     28\u001b[0m uf\u001b[39m.\u001b[39mloc[(uf[\u001b[39m\"\u001b[39m\u001b[39mgeneration\u001b[39m\u001b[39m\"\u001b[39m] \u001b[39m>\u001b[39m\u001b[39m=\u001b[39m \u001b[39m2013\u001b[39m) \u001b[39m&\u001b[39m (uf[\u001b[39m\"\u001b[39m\u001b[39mgeneration\u001b[39m\u001b[39m\"\u001b[39m] \u001b[39m<\u001b[39m\u001b[39m=\u001b[39m \u001b[39m2025\u001b[39m), \u001b[39m\"\u001b[39m\u001b[39mgeneration\u001b[39m\u001b[39m\"\u001b[39m ] \u001b[39m=\u001b[39m  \u001b[39m\"\u001b[39m\u001b[39mGen Alpha\u001b[39m\u001b[39m\"\u001b[39m\n\u001b[0;32m     29\u001b[0m uf\u001b[39m.\u001b[39mloc[(uf[\u001b[39m\"\u001b[39m\u001b[39mgeneration\u001b[39m\u001b[39m\"\u001b[39m] \u001b[39m>\u001b[39m\u001b[39m=\u001b[39m \u001b[39m1995\u001b[39m) \u001b[39m&\u001b[39m (uf[\u001b[39m\"\u001b[39m\u001b[39mgeneration\u001b[39m\u001b[39m\"\u001b[39m] \u001b[39m<\u001b[39m\u001b[39m=\u001b[39m \u001b[39m2012\u001b[39m), \u001b[39m\"\u001b[39m\u001b[39mgeneration\u001b[39m\u001b[39m\"\u001b[39m ] \u001b[39m=\u001b[39m  \u001b[39m\"\u001b[39m\u001b[39mGen Z\u001b[39m\u001b[39m\"\u001b[39m \n\u001b[1;32m---> 30\u001b[0m uf\u001b[39m.\u001b[39mloc[(uf[\u001b[39m\"\u001b[39;49m\u001b[39mgeneration\u001b[39;49m\u001b[39m\"\u001b[39;49m] \u001b[39m>\u001b[39;49m\u001b[39m=\u001b[39;49m \u001b[39m1980\u001b[39;49m) \u001b[39m&\u001b[39m (uf[\u001b[39m\"\u001b[39m\u001b[39mgeneration\u001b[39m\u001b[39m\"\u001b[39m] \u001b[39m<\u001b[39m\u001b[39m=\u001b[39m \u001b[39m1994\u001b[39m), \u001b[39m\"\u001b[39m\u001b[39mgeneration\u001b[39m\u001b[39m\"\u001b[39m ] \u001b[39m=\u001b[39m  \u001b[39m\"\u001b[39m\u001b[39mMillenials\u001b[39m\u001b[39m\"\u001b[39m\n\u001b[0;32m     31\u001b[0m \u001b[39m#uf.loc[(uf[\"generation\"] >= 1965) & (uf[\"generation\"] <= 1979), \"generation\" ] =  \"Gen X\"\u001b[39;00m\n\u001b[0;32m     33\u001b[0m uf\u001b[39m.\u001b[39mdtypes\n",
      "File \u001b[1;32mc:\\Users\\titot\\AppData\\Local\\Programs\\Python\\Python311\\Lib\\site-packages\\pandas\\core\\ops\\common.py:72\u001b[0m, in \u001b[0;36m_unpack_zerodim_and_defer.<locals>.new_method\u001b[1;34m(self, other)\u001b[0m\n\u001b[0;32m     68\u001b[0m             \u001b[39mreturn\u001b[39;00m \u001b[39mNotImplemented\u001b[39m\n\u001b[0;32m     70\u001b[0m other \u001b[39m=\u001b[39m item_from_zerodim(other)\n\u001b[1;32m---> 72\u001b[0m \u001b[39mreturn\u001b[39;00m method(\u001b[39mself\u001b[39;49m, other)\n",
      "File \u001b[1;32mc:\\Users\\titot\\AppData\\Local\\Programs\\Python\\Python311\\Lib\\site-packages\\pandas\\core\\arraylike.py:62\u001b[0m, in \u001b[0;36mOpsMixin.__ge__\u001b[1;34m(self, other)\u001b[0m\n\u001b[0;32m     60\u001b[0m \u001b[39m@unpack_zerodim_and_defer\u001b[39m(\u001b[39m\"\u001b[39m\u001b[39m__ge__\u001b[39m\u001b[39m\"\u001b[39m)\n\u001b[0;32m     61\u001b[0m \u001b[39mdef\u001b[39;00m \u001b[39m__ge__\u001b[39m(\u001b[39mself\u001b[39m, other):\n\u001b[1;32m---> 62\u001b[0m     \u001b[39mreturn\u001b[39;00m \u001b[39mself\u001b[39;49m\u001b[39m.\u001b[39;49m_cmp_method(other, operator\u001b[39m.\u001b[39;49mge)\n",
      "File \u001b[1;32mc:\\Users\\titot\\AppData\\Local\\Programs\\Python\\Python311\\Lib\\site-packages\\pandas\\core\\series.py:6243\u001b[0m, in \u001b[0;36mSeries._cmp_method\u001b[1;34m(self, other, op)\u001b[0m\n\u001b[0;32m   6240\u001b[0m rvalues \u001b[39m=\u001b[39m extract_array(other, extract_numpy\u001b[39m=\u001b[39m\u001b[39mTrue\u001b[39;00m, extract_range\u001b[39m=\u001b[39m\u001b[39mTrue\u001b[39;00m)\n\u001b[0;32m   6242\u001b[0m \u001b[39mwith\u001b[39;00m np\u001b[39m.\u001b[39merrstate(\u001b[39mall\u001b[39m\u001b[39m=\u001b[39m\u001b[39m\"\u001b[39m\u001b[39mignore\u001b[39m\u001b[39m\"\u001b[39m):\n\u001b[1;32m-> 6243\u001b[0m     res_values \u001b[39m=\u001b[39m ops\u001b[39m.\u001b[39;49mcomparison_op(lvalues, rvalues, op)\n\u001b[0;32m   6245\u001b[0m \u001b[39mreturn\u001b[39;00m \u001b[39mself\u001b[39m\u001b[39m.\u001b[39m_construct_result(res_values, name\u001b[39m=\u001b[39mres_name)\n",
      "File \u001b[1;32mc:\\Users\\titot\\AppData\\Local\\Programs\\Python\\Python311\\Lib\\site-packages\\pandas\\core\\ops\\array_ops.py:287\u001b[0m, in \u001b[0;36mcomparison_op\u001b[1;34m(left, right, op)\u001b[0m\n\u001b[0;32m    284\u001b[0m     \u001b[39mreturn\u001b[39;00m invalid_comparison(lvalues, rvalues, op)\n\u001b[0;32m    286\u001b[0m \u001b[39melif\u001b[39;00m is_object_dtype(lvalues\u001b[39m.\u001b[39mdtype) \u001b[39mor\u001b[39;00m \u001b[39misinstance\u001b[39m(rvalues, \u001b[39mstr\u001b[39m):\n\u001b[1;32m--> 287\u001b[0m     res_values \u001b[39m=\u001b[39m comp_method_OBJECT_ARRAY(op, lvalues, rvalues)\n\u001b[0;32m    289\u001b[0m \u001b[39melse\u001b[39;00m:\n\u001b[0;32m    290\u001b[0m     res_values \u001b[39m=\u001b[39m _na_arithmetic_op(lvalues, rvalues, op, is_cmp\u001b[39m=\u001b[39m\u001b[39mTrue\u001b[39;00m)\n",
      "File \u001b[1;32mc:\\Users\\titot\\AppData\\Local\\Programs\\Python\\Python311\\Lib\\site-packages\\pandas\\core\\ops\\array_ops.py:75\u001b[0m, in \u001b[0;36mcomp_method_OBJECT_ARRAY\u001b[1;34m(op, x, y)\u001b[0m\n\u001b[0;32m     73\u001b[0m     result \u001b[39m=\u001b[39m libops\u001b[39m.\u001b[39mvec_compare(x\u001b[39m.\u001b[39mravel(), y\u001b[39m.\u001b[39mravel(), op)\n\u001b[0;32m     74\u001b[0m \u001b[39melse\u001b[39;00m:\n\u001b[1;32m---> 75\u001b[0m     result \u001b[39m=\u001b[39m libops\u001b[39m.\u001b[39;49mscalar_compare(x\u001b[39m.\u001b[39;49mravel(), y, op)\n\u001b[0;32m     76\u001b[0m \u001b[39mreturn\u001b[39;00m result\u001b[39m.\u001b[39mreshape(x\u001b[39m.\u001b[39mshape)\n",
      "File \u001b[1;32mc:\\Users\\titot\\AppData\\Local\\Programs\\Python\\Python311\\Lib\\site-packages\\pandas\\_libs\\ops.pyx:107\u001b[0m, in \u001b[0;36mpandas._libs.ops.scalar_compare\u001b[1;34m()\u001b[0m\n",
      "\u001b[1;31mTypeError\u001b[0m: '>=' not supported between instances of 'str' and 'int'"
     ]
    }
   ],
   "source": [
    "\n",
    "uf = users.loc[:, [\"user_id\", \"user_completed\", \"user_days_spent_watching\", \"gender\", \"location\", \"birth_date\", \"stats_episodes\"]]\n",
    "\n",
    "#change days_spent_watching to a range: check if above certain amount and put a number for the vector\n",
    "#check if user_completed is above certain amount\n",
    "#location?\n",
    "#convert birthdate to age\n",
    "\n",
    "#useful_uf = \n",
    "\n",
    "#convert birth_date to age\n",
    "uf[\"birth_date\"] = pd.to_datetime(uf[\"birth_date\"])\n",
    "#uf[\"birth_date\"] = datetime.now() - uf[\"birth_date\"]\n",
    "\n",
    "def date_to_age(days):\n",
    "    seconds = days.total_seconds()\n",
    "    years = seconds/3600/24/365.25\n",
    "    return int(years)\n",
    "\n",
    "def birth_year(date):\n",
    "    birth_year = date.strftime(\"%Y\")\n",
    "    return int(birth_year)\n",
    "\n",
    "uf[\"birth_date\"] = uf[\"birth_date\"].apply(birth_year)\n",
    "#age = uf[\"birth_date\"].apply(to_age)\n",
    "\n",
    "uf = uf.rename(columns={\"birth_date\":\"generation\"})\n",
    "\n",
    "uf.loc[(uf[\"generation\"] >= 2013) & (uf[\"generation\"] <= 2025), \"generation\" ] =  \"Gen Alpha\"\n",
    "uf.loc[(uf[\"generation\"] >= 1995) & (uf[\"generation\"] <= 2012), \"generation\" ] =  \"Gen Z\" \n",
    "uf.loc[(uf[\"generation\"] >= 1980) & (uf[\"generation\"] <= 1994), \"generation\" ] =  \"Millenials\"\n",
    "#uf.loc[(uf[\"generation\"] >= 1965) & (uf[\"generation\"] <= 1979), \"generation\" ] =  \"Gen X\"\n",
    "\n",
    "#changes column type incorrectly to string which is why it cant do anymore logic comparisons\n",
    "uf.dtypes\n",
    "\n",
    "#uf\n",
    "\n",
    "#get the users' ages\n",
    "#maybe group into: boomers, millenials, zoomers \n",
    "#find users that watched the same anime and check ratings"
   ]
  }
 ],
 "metadata": {
  "kernelspec": {
   "display_name": "Python 3",
   "language": "python",
   "name": "python3"
  },
  "language_info": {
   "codemirror_mode": {
    "name": "ipython",
    "version": 3
   },
   "file_extension": ".py",
   "mimetype": "text/x-python",
   "name": "python",
   "nbconvert_exporter": "python",
   "pygments_lexer": "ipython3",
   "version": "3.11.1"
  },
  "orig_nbformat": 4,
  "vscode": {
   "interpreter": {
    "hash": "2fbeb981500814da07500025845562e048eba632abcc03a88daa93daf0265bae"
   }
  }
 },
 "nbformat": 4,
 "nbformat_minor": 2
}
