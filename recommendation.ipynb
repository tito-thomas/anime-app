{
 "cells": [
  {
   "cell_type": "code",
   "execution_count": 47,
   "metadata": {},
   "outputs": [],
   "source": [
    "import numpy as np\n",
    "import pandas as pd\n",
    "#import scipy\n",
    "from datetime import date"
   ]
  },
  {
   "cell_type": "code",
   "execution_count": null,
   "metadata": {},
   "outputs": [],
   "source": [
    "\n",
    "users = pd.read_csv(r\"D:\\dataset\\users_cleaned.csv\")\n",
    "anime_lists = pd.read_csv(r\"D:\\dataset\\animelists_cleaned.csv\")\n"
   ]
  },
  {
   "cell_type": "code",
   "execution_count": 63,
   "metadata": {},
   "outputs": [
    {
     "name": "stdout",
     "output_type": "stream",
     "text": [
      "<class 'datetime.date'>\n"
     ]
    }
   ],
   "source": [
    "attributes = pd.DataFrame(users[[\"username\", \"user_id\", \"gender\", \"location\", \"birth_date\", \"stats_mean_score\"]])\n",
    "vector = users[[\"gender\", \"location\", \"birth_date\", \"stats_mean_score\"]]\n",
    "\n",
    "att_dict = {}\n",
    "\n",
    "x = np.vectorize(attributes)\n",
    "#attributes.head()\n",
    "today = date.today()\n",
    "print(type(today))\n",
    "\n",
    "type()"
   ]
  }
 ],
 "metadata": {
  "kernelspec": {
   "display_name": "Python 3",
   "language": "python",
   "name": "python3"
  },
  "language_info": {
   "codemirror_mode": {
    "name": "ipython",
    "version": 3
   },
   "file_extension": ".py",
   "mimetype": "text/x-python",
   "name": "python",
   "nbconvert_exporter": "python",
   "pygments_lexer": "ipython3",
   "version": "3.11.1"
  },
  "orig_nbformat": 4,
  "vscode": {
   "interpreter": {
    "hash": "2fbeb981500814da07500025845562e048eba632abcc03a88daa93daf0265bae"
   }
  }
 },
 "nbformat": 4,
 "nbformat_minor": 2
}
